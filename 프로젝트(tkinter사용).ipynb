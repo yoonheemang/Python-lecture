{
 "cells": [
  {
   "cell_type": "markdown",
   "metadata": {},
   "source": [
    "# 예매 프로그램(tkinter 활용)\n",
    "## 통계학과 2016110508 윤희망"
   ]
  },
  {
   "cell_type": "code",
   "execution_count": 1,
   "metadata": {},
   "outputs": [],
   "source": [
    "#회원리스트 생성\n",
    "mem_list=[]\n",
    "\n",
    "#예매내역 리스트 생성\n",
    "order_list=[]\n",
    "\n",
    "#최근 본 여행지 리스트 생성\n",
    "last_list=[]"
   ]
  },
  {
   "cell_type": "markdown",
   "metadata": {},
   "source": [
    "->로그아웃하면 회원리스트, 예매내역 그대로 유지, 최근 본 여행지 리셋"
   ]
  },
  {
   "cell_type": "code",
   "execution_count": 2,
   "metadata": {},
   "outputs": [],
   "source": [
    "import tkinter.messagebox\n",
    "from tkinter import *"
   ]
  },
  {
   "cell_type": "markdown",
   "metadata": {},
   "source": [
    "messagebox가 없다는 오류발생-> import tkinter.messagebox를 두번 해주면 오류해결\n",
    "\n",
    "from tkinter import* 과 자리를 바꿔주면(작동 순서를 바꿔주면) 해결"
   ]
  },
  {
   "cell_type": "markdown",
   "metadata": {},
   "source": [
    "## 로그인"
   ]
  },
  {
   "cell_type": "code",
   "execution_count": 3,
   "metadata": {},
   "outputs": [],
   "source": [
    "#로그인 함수(회원번호 입력)\n",
    "def login():\n",
    "    while(1):\n",
    "        if len(mem_no.get())==4 and mem_no.get().isdigit(): #4자리 숫자인 경우\n",
    "            #회원번호를 order_list에 추가\n",
    "            global no         \n",
    "            for i in range(len(order_list)+1):\n",
    "                if len(order_list)==0:\n",
    "                    no=0\n",
    "                    order_list.append([mem_no.get()])\n",
    "                    break\n",
    "                elif order_list[i][0]==mem_no.get():\n",
    "                    no=i\n",
    "                    break\n",
    "                elif i+1==len(order_list):\n",
    "                    no=len(order_list)\n",
    "                    order_list.append([mem_no.get()])\n",
    "\n",
    "            #회원번호가 리스트에 있을 경우\n",
    "            if mem_no.get() in mem_list:\n",
    "                messagebox.showinfo('success','환영합니다')\n",
    "                quit()\n",
    "            #회원번호가 리스트에 없을 경우\n",
    "            else:\n",
    "                messagebox.showinfo('success','신규회원입니다')\n",
    "                mem_list.append(mem_no.get())\n",
    "                quit()\n",
    "            winopen(\"메인화면\")\n",
    "            break\n",
    "            \n",
    "        else:\n",
    "            messagebox.showerror('error','4자리 숫자를 입력하세요') #4자리 숫자가 아닌경우 다시 입력받음\n",
    "            raise ValueError(\"4자리 숫자값을 입력하지 않았습니다.\") #예외처리\n",
    "            break"
   ]
  },
  {
   "cell_type": "markdown",
   "metadata": {},
   "source": [
    "-> 회원번호가 이미 등록되어있으면 그 위치에 정보를 추가하거나 열람해야하므로 전역변수로 위치를 생성\n",
    "\n",
    "-> 저장되지 않은 회원번호를 가진 사람이 들어오면 새로운 리스트를 줘야함(신규회원)\n",
    "#### -> 예외처리 : '로그인 창에서 4자리가 아닌 값 입력시 오류나게 함'"
   ]
  },
  {
   "cell_type": "markdown",
   "metadata": {},
   "source": [
    "## 로그아웃"
   ]
  },
  {
   "cell_type": "code",
   "execution_count": 4,
   "metadata": {},
   "outputs": [],
   "source": [
    "#창닫는 함수\n",
    "def quit():\n",
    "    window.quit()\n",
    "    \n",
    "#로그아웃 함수\n",
    "def logout(win):\n",
    "    if messagebox.askyesno(\"확인\",\"로그아웃하시겠습니까?\"):\n",
    "        global last_list\n",
    "        last_list=[]\n",
    "        win.destroy()"
   ]
  },
  {
   "cell_type": "markdown",
   "metadata": {},
   "source": [
    "-> 최근 본 여행지 목록을 로그인 할 때마다 갱신이 안되는 오류 : last_list 를 전역변수 설정하여 해결"
   ]
  },
  {
   "cell_type": "markdown",
   "metadata": {},
   "source": [
    "## 메인화면 메뉴창 띄우기"
   ]
  },
  {
   "cell_type": "markdown",
   "metadata": {},
   "source": [
    "### 메인화면 메뉴(1.여행지보기(예매하기))"
   ]
  },
  {
   "cell_type": "code",
   "execution_count": 5,
   "metadata": {},
   "outputs": [],
   "source": [
    "#여행지 보기(예매하기)\n",
    "def winopen1(t):\n",
    "    new=Toplevel()\n",
    "    new.title(t)\n",
    "    new.geometry(\"300x190\")\n",
    "    travel=PhotoImage(file=\"travel.gif\").subsample(2,2)\n",
    "    travel_label=Label(new,image=travel)\n",
    "    travel_label.place(x=-10,y=-10)\n",
    "    \n",
    "    btn1=Button(new,text='그랜드\\n캐니언',bg='yellow',command=lambda:info('그랜드 캐니언'))\n",
    "    btn2=Button(new,text='자이언\\n캐니언',bg='yellow',command=lambda:info('자이언 캐니언'))\n",
    "    btn3=Button(new,text='브라이스\\n캐니언',bg='yellow',command=lambda:info('브라이스 캐니언'))\n",
    "    btn4=Button(new,text='앤텔로프\\n캐니언',bg='yellow',command=lambda:info('앤텔로프 캐니언'))\n",
    "    btn5=Button(new,text='메인화면으로',command=lambda:new.destroy())\n",
    "    \n",
    "    btn1.place(x=20,y=15,width=60,height=50)\n",
    "    btn2.place(x=90,y=15,width=60,height=50)\n",
    "    btn3.place(x=160,y=15,width=60,height=50)\n",
    "    btn4.place(x=230,y=15,width=60,height=50)\n",
    "    btn5.place(x=200,y=150)\n",
    "    new.mainloop()\n",
    "\n",
    "#예매내역 리스트에 추가하고 창 닫는 함수\n",
    "def append_close(text,win):\n",
    "    if text in order_list[no]:\n",
    "        messagebox.showerror('error','이미 예매한 여행지입니다.')\n",
    "        win.destroy()\n",
    "    else:\n",
    "        order_list[no].append(text)\n",
    "        win.destroy()"
   ]
  },
  {
   "cell_type": "markdown",
   "metadata": {},
   "source": [
    "-> 여행지 보기(예매하기)창 함수 만들기\n",
    "\n",
    "-> 예매버튼 클릭 시 예매내역 리스트에 추가하고 창 닫는 함수 / 이미 예매한 여행지일 경우 에러박스 띄우기(예매내역 추가X)"
   ]
  },
  {
   "cell_type": "code",
   "execution_count": 6,
   "metadata": {},
   "outputs": [],
   "source": [
    "#여행지 정보창\n",
    "def info(t):\n",
    "    new=Toplevel()\n",
    "    new.title(t)\n",
    "    new.geometry(\"540x175\")\n",
    "    #여행지 정보를 보면 최근 본 여행지에 추가(앞쪽으로)  \n",
    "    if t in last_list:\n",
    "        last_list.remove(t)\n",
    "    last_list.insert(0,t) \n",
    "    \n",
    "    if t=='그랜드 캐니언':\n",
    "        Grand=PhotoImage(file=\"GrandCanyon.gif\").subsample(2,2)\n",
    "        Grand_label=Label(new,image=Grand)\n",
    "        Grand_label.place(x=-10,y=0)\n",
    "        label=Label(new,text='그랜드 캐니언\\n1일투어 가격 : \\\\200,000 \\n\\n'+grand)\n",
    "        \n",
    "    elif t=='자이언 캐니언':\n",
    "        Giant=PhotoImage(file=\"GiantCanyon2.gif\").subsample(2,2)\n",
    "        Giant_label=Label(new,image=Giant)\n",
    "        Giant_label.place(x=-10,y=-10)\n",
    "        label=Label(new,text='자이언 캐니언\\n1일투어 가격 : \\\\300,000\\n\\n'+giant)\n",
    "        \n",
    "    elif t=='브라이스 캐니언':\n",
    "        Bryce=PhotoImage(file=\"BryceCanyon.gif\").subsample(2,2)\n",
    "        Bryce_label=Label(new,image=Bryce)\n",
    "        Bryce_label.place(x=-10,y=0)\n",
    "        label=Label(new,text='브라이스 캐니언\\n1일투어 가격 : \\\\250,000\\n\\n'+bryce)\n",
    "        \n",
    "    elif t=='앤텔로프 캐니언':\n",
    "        Antelop=PhotoImage(file=\"AntelopCanyon2.gif\").subsample(2,2)\n",
    "        Antelop_label=Label(new,image=Antelop)\n",
    "        Antelop_label.place(x=-10,y=0)\n",
    "        label=Label(new,text='앤텔로프 캐니언\\n1일투어 가격 : \\\\350,000\\n\\n'+antelop)\n",
    "        \n",
    "    label.pack(side=RIGHT)\n",
    "    btn=Button(new,text='예매',bg='yellow',command=lambda:append_close(t,new))\n",
    "    btn.place(x=380,y=145)\n",
    "    new.mainloop()"
   ]
  },
  {
   "cell_type": "code",
   "execution_count": 7,
   "metadata": {
    "scrolled": true
   },
   "outputs": [],
   "source": [
    "grand='미국 애리조나주 북부에 있는 거대한 협곡으로 \\n세계적으로 유명한 경관을 자랑한다. \\n20억 년 전에 생성된 것으로 추정되며, \\n1919년 미국의 국립공원으로,\\n 1979년 유네스코 세계자연유산으로 지정되었다.\\n'\n",
    "giant='형형색색의 모래 바위, 작열하는 태양 아래 \\n드리워진 거대한 사막의 모뉴먼트, \\n붉은 암반과 수풀 고원으로 둘러싸인 \\n    자이언 캐니언은 신의 정원 그 이상이다.    \\n'\n",
    "bryce='미국 유타주에 있는 국립공원으로\\n 수만개의 섬세한 첨탑을 가진 여러 개의 \\n반원형 극장의 집단과 같은 모습이다.\\n  작지만 더 친근감이 들며, 접근하기가 쉽고,    \\n초현실적인 바위 형성물들은 \\n그랜드 캐니언에 비해 더 섬세하다.\\n'\n",
    "antelop='앤틸로프캐년은 한 마디로 빛과 자연이 만든 \\n예술작품이라고 할 수 있다.\\n 마치 신이 부드러운 손으로 도자기를 빚은 듯한 \\n착각에 빠지게 할 정도로 \\n신비스러운 분위기를 연출한다.\\n'"
   ]
  },
  {
   "cell_type": "markdown",
   "metadata": {},
   "source": [
    "-> 여행지 정보를 열람하면 최근 본 여행지 리스트에 추가(최근에 본 정보가 앞쪽으로 오도록 추가)"
   ]
  },
  {
   "cell_type": "markdown",
   "metadata": {},
   "source": [
    "### 메인화면 메뉴(2. best 여행지 추천 3.최근 본 여행지 4.예매내역보기)"
   ]
  },
  {
   "cell_type": "code",
   "execution_count": 8,
   "metadata": {},
   "outputs": [],
   "source": [
    "#best 여행지 추천\n",
    "def winopen2(t):\n",
    "    new=Toplevel()\n",
    "    new.title(t)\n",
    "\n",
    "    best={'그랜드 캐니언':0,'자이언 캐니언':0,'브라이스 캐니언':0,'앤텔로프 캐니언':0}\n",
    "    for i in range(len(order_list)):\n",
    "        for j in range(1,len(order_list[i])):\n",
    "            best[order_list[i][j]]+=1\n",
    "    recommend=list(best.keys())[list(best.values()).index(max(best.values()))]\n",
    "    label2=Label(new,text='가장 많이 예매한 여행지\\n\\n'+recommend)\n",
    "    label2.pack()\n",
    "\n",
    "    new.mainloop()\n",
    "    \n",
    "#최근 본 여행지\n",
    "def winopen3(t):\n",
    "    new=Toplevel()\n",
    "    new.title(t)\n",
    "    if len(last_list)!=0:\n",
    "        label3=Label(new,text=last_list)\n",
    "    else:\n",
    "        label3=Label(new,text='최근 본 여행지가 없습니다.')\n",
    "    label3.pack()\n",
    "    new.mainloop()\n",
    "    \n",
    "#예매내역 보기\n",
    "def winopen4(t):\n",
    "    new=Toplevel()\n",
    "    new.title(t)\n",
    "    if len(order_list[no][1:])!=0:\n",
    "        label4=Label(new,text=order_list[no][1:])\n",
    "    else:\n",
    "        label4=Label(new,text='예매내역이 없습니다.')\n",
    "    label4.pack()\n",
    "    new.mainloop()"
   ]
  },
  {
   "cell_type": "markdown",
   "metadata": {},
   "source": [
    "-> best여행지 추천은 딕셔너리 사용해서 가장 많은 값을 가진 여행지 출력\n",
    "\n",
    "-> 예매내역보기 함수에서 단순히 여행지 뿐만 아니라 가격, 여행지 정보도 나타나게 할 것\n",
    "\n",
    "-> order_list에서 첫번째 변수는 제외하고 출력하기 [1:] 사용"
   ]
  },
  {
   "cell_type": "code",
   "execution_count": 9,
   "metadata": {},
   "outputs": [],
   "source": [
    "#새로운 창 열리는 함수\n",
    "def winopen(t):\n",
    "    new=Toplevel()\n",
    "    new.title(t)\n",
    "    new.geometry(\"480x260\")\n",
    "    \n",
    "    airplane=PhotoImage(file=\"airplane.gif\")\n",
    "    air_label=Label(new,image=airplane)\n",
    "    air_label.place(x=-20,y=-20)\n",
    "    \n",
    "    btn1=Button(new,text='여행지 보기\\n(예매하기)',fg='red',bg='yellow',command=lambda:winopen1('여행지 보기(예매하기)'))\n",
    "    btn2=Button(new,text='best 여행지 추천',bg='yellow',command=lambda:winopen2('best 여행지 추천'))\n",
    "    btn3=Button(new,text='최근 본 여행지',bg='yellow',command=lambda:winopen3('최근 본 여행지'))\n",
    "    btn4=Button(new,text='예매내역 보기',bg='yellow',command=lambda:winopen4('예매내역 보기'))\n",
    "    btn5=Button(new,text='로그아웃',command=lambda:logout(new))\n",
    "\n",
    "    btn1.place(x=30,y=150,width=100,height=100)\n",
    "    btn2.place(x=150,y=150)\n",
    "    btn3.place(x=260,y=150)\n",
    "    btn4.place(x=360,y=150)\n",
    "    btn5.place(x=385,y=220)\n",
    "    new.mainloop()"
   ]
  },
  {
   "cell_type": "markdown",
   "metadata": {},
   "source": [
    "-> 메인화면에서 각 메뉴버튼 클릭시 새로운 화면 띄우기"
   ]
  },
  {
   "cell_type": "markdown",
   "metadata": {},
   "source": [
    "## 메인함수"
   ]
  },
  {
   "cell_type": "code",
   "execution_count": 10,
   "metadata": {
    "scrolled": true
   },
   "outputs": [],
   "source": [
    "#윈도우 생성\n",
    "window=Tk()\n",
    "window.title(\"로그인\")\n",
    "window.geometry(\"530x140\")\n",
    "airplane2=PhotoImage(file=\"airplane2.gif\").subsample(1,2)\n",
    "air2_label=Label(image=airplane2)\n",
    "air2_label.place(x=-20,y=-10)\n",
    "\n",
    "#텍스트창의 값 저장할 변수\n",
    "mem_no=StringVar()\n",
    "\n",
    "#입력창\n",
    "lbl = Label(window, text = \"회원번호\")\n",
    "lbl.place(x=10,y=20)\n",
    "txt = Entry(window,textvariable=mem_no)\n",
    "txt.place(x=65,y=20)\n",
    "\n",
    "#Ok버튼 (command=lambda: 뒤에 명령 작성.)\n",
    "btn = Button(window, text = \"Ok\", width = 15,command=lambda:login())\n",
    "btn.place(x=70,y=40)\n",
    "\n",
    "window.mainloop()"
   ]
  },
  {
   "cell_type": "code",
   "execution_count": null,
   "metadata": {},
   "outputs": [],
   "source": []
  },
  {
   "cell_type": "code",
   "execution_count": null,
   "metadata": {},
   "outputs": [],
   "source": []
  }
 ],
 "metadata": {
  "kernelspec": {
   "display_name": "Python [default]",
   "language": "python",
   "name": "python3"
  },
  "language_info": {
   "codemirror_mode": {
    "name": "ipython",
    "version": 3
   },
   "file_extension": ".py",
   "mimetype": "text/x-python",
   "name": "python",
   "nbconvert_exporter": "python",
   "pygments_lexer": "ipython3",
   "version": "3.6.5"
  }
 },
 "nbformat": 4,
 "nbformat_minor": 2
}
