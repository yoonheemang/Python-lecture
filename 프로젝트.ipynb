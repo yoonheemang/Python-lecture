{
 "cells": [
  {
   "cell_type": "markdown",
   "metadata": {},
   "source": [
    "## 평가항목\n",
    "1. 창의성\n",
    "2. 배운 내용 적용 항목\n",
    "3. 오류 처리"
   ]
  },
  {
   "cell_type": "markdown",
   "metadata": {},
   "source": [
    "### 배운 내용\n",
    "- 변수와 자료형\n",
    "- 화면 입출력과 리스트\n",
    "- 조건문과 반복문\n",
    "- 함수"
   ]
  },
  {
   "cell_type": "markdown",
   "metadata": {},
   "source": [
    "화면 입출력 : 숫자 입력\n",
    "\n",
    "조건문 : 맞으면 ___ , 틀리면 ___\n",
    "\n",
    "리스트 : 각 라운드 별 틀린 횟수 or 각 라운드별 맞았는지 틀렸는지\n",
    "\n",
    "반복문 : 틀리면 맞출때까지 반복\n",
    "\n",
    "함수 : 각 게임을 함수로 만들어서 초반 메뉴에서 선택하면 각 함수가 돌아가게 설계"
   ]
  },
  {
   "cell_type": "code",
   "execution_count": null,
   "metadata": {},
   "outputs": [],
   "source": []
  },
  {
   "cell_type": "markdown",
   "metadata": {},
   "source": [
    "# 예매 프로그램"
   ]
  },
  {
   "cell_type": "code",
   "execution_count": 2,
   "metadata": {},
   "outputs": [],
   "source": [
    "#회원리스트 생성\n",
    "mem_list=[]"
   ]
  },
  {
   "cell_type": "code",
   "execution_count": 4,
   "metadata": {},
   "outputs": [],
   "source": [
    "#주문내역 리스트 생성\n",
    "order_list=[]"
   ]
  },
  {
   "cell_type": "code",
   "execution_count": 1,
   "metadata": {},
   "outputs": [
    {
     "data": {
      "text/plain": [
       "True"
      ]
     },
     "execution_count": 1,
     "metadata": {},
     "output_type": "execute_result"
    }
   ],
   "source": [
    "a='111'\n",
    "a.isdigit()"
   ]
  },
  {
   "cell_type": "code",
   "execution_count": 7,
   "metadata": {},
   "outputs": [
    {
     "name": "stdout",
     "output_type": "stream",
     "text": [
      "회원번호를 입력하세요(전화번호 뒤 4자리) :1\n",
      "다시 입력하세요\n",
      "회원번호를 입력하세요(전화번호 뒤 4자리) :dd\n",
      "다시 입력하세요\n",
      "회원번호를 입력하세요(전화번호 뒤 4자리) :121\n",
      "다시 입력하세요\n",
      "회원번호를 입력하세요(전화번호 뒤 4자리) :1d1f\n",
      "다시 입력하세요\n",
      "회원번호를 입력하세요(전화번호 뒤 4자리) :1222\n",
      "신규회원입니다.\n"
     ]
    }
   ],
   "source": [
    "#회원번호 입력받기\n",
    "mem_no=input(\"회원번호를 입력하세요(전화번호 뒤 4자리) :\")\n",
    "while(1):\n",
    "    if len(mem_no)==4 and mem_no.isdigit():\n",
    "        if mem_no in mem_list:\n",
    "            print(\"환영합니다.\")\n",
    "            break\n",
    "        else:\n",
    "            print(\"신규회원입니다.\")\n",
    "            mem_list.append(mem_no)\n",
    "            break\n",
    "    else:\n",
    "        print(\"다시 입력하세요\")\n",
    "    mem_no=input(\"회원번호를 입력하세요(전화번호 뒤 4자리) :\")"
   ]
  },
  {
   "cell_type": "markdown",
   "metadata": {},
   "source": [
    "-> 함수화를 시키게 된다면 mem_no를 global 변수로 만들어줘야한다. : 주문내역 리스트에 같이 추가할 예정이므로"
   ]
  },
  {
   "cell_type": "code",
   "execution_count": 2,
   "metadata": {},
   "outputs": [
    {
     "name": "stdout",
     "output_type": "stream",
     "text": [
      "MENU\n",
      "1.상품보기(주문하기)  2.주문내역  3.나가기\n",
      "1\n",
      "1.티셔츠  2.청바지  3.치마\n",
      "1\n",
      "1.빨강  2.파랑  3.초록\n",
      "1\n",
      "1.S  2.M  3.L\n",
      "3\n",
      "수량2\n"
     ]
    },
    {
     "ename": "NameError",
     "evalue": "name 'order_list' is not defined",
     "output_type": "error",
     "traceback": [
      "\u001b[1;31m---------------------------------------------------------------------------\u001b[0m",
      "\u001b[1;31mNameError\u001b[0m                                 Traceback (most recent call last)",
      "\u001b[1;32m<ipython-input-2-d4833162492c>\u001b[0m in \u001b[0;36m<module>\u001b[1;34m()\u001b[0m\n\u001b[0;32m      8\u001b[0m         \u001b[0msize\u001b[0m\u001b[1;33m=\u001b[0m\u001b[0mint\u001b[0m\u001b[1;33m(\u001b[0m\u001b[0minput\u001b[0m\u001b[1;33m(\u001b[0m\u001b[1;34m\"1.S  2.M  3.L\\n\"\u001b[0m\u001b[1;33m)\u001b[0m\u001b[1;33m)\u001b[0m\u001b[1;33m\u001b[0m\u001b[0m\n\u001b[0;32m      9\u001b[0m         \u001b[0mno\u001b[0m\u001b[1;33m=\u001b[0m\u001b[0mint\u001b[0m\u001b[1;33m(\u001b[0m\u001b[0minput\u001b[0m\u001b[1;33m(\u001b[0m\u001b[1;34m\"수량\"\u001b[0m\u001b[1;33m)\u001b[0m\u001b[1;33m)\u001b[0m\u001b[1;33m\u001b[0m\u001b[0m\n\u001b[1;32m---> 10\u001b[1;33m         \u001b[0morder_list\u001b[0m\u001b[1;33m.\u001b[0m\u001b[0mappend\u001b[0m\u001b[1;33m(\u001b[0m\u001b[1;33m[\u001b[0m\u001b[0mmem_no\u001b[0m\u001b[1;33m,\u001b[0m\u001b[0mproduct\u001b[0m\u001b[1;33m,\u001b[0m\u001b[0mcolor\u001b[0m\u001b[1;33m,\u001b[0m\u001b[0msize\u001b[0m\u001b[1;33m,\u001b[0m\u001b[0mno\u001b[0m\u001b[1;33m]\u001b[0m\u001b[1;33m)\u001b[0m\u001b[1;33m\u001b[0m\u001b[0m\n\u001b[0m\u001b[0;32m     11\u001b[0m     \u001b[1;32melif\u001b[0m \u001b[0mmenu\u001b[0m\u001b[1;33m==\u001b[0m\u001b[1;36m2\u001b[0m\u001b[1;33m:\u001b[0m\u001b[1;33m\u001b[0m\u001b[0m\n\u001b[0;32m     12\u001b[0m         \u001b[0mprint\u001b[0m\u001b[1;33m(\u001b[0m\u001b[0morder_list\u001b[0m\u001b[1;33m)\u001b[0m\u001b[1;33m\u001b[0m\u001b[0m\n",
      "\u001b[1;31mNameError\u001b[0m: name 'order_list' is not defined"
     ]
    }
   ],
   "source": [
    "#메뉴화면 구성\n",
    "while(1): \n",
    "    print(\"MENU\")\n",
    "    menu=int(input(\"1.상품보기(주문하기)  2.주문내역  3.나가기\\n\"))\n",
    "    if menu==1:\n",
    "        product=int(input(\"1.티셔츠  2.청바지  3.치마\\n\"))\n",
    "        color=int(input(\"1.빨강  2.파랑  3.초록\\n\"))\n",
    "        size=int(input(\"1.S  2.M  3.L\\n\"))\n",
    "        no=int(input(\"수량\"))\n",
    "        order_list.append([mem_no,product,color,size,no])\n",
    "    elif menu==2:\n",
    "        print(order_list)\n",
    "    elif menu==3:\n",
    "        break"
   ]
  },
  {
   "cell_type": "markdown",
   "metadata": {},
   "source": [
    "오류처리\n",
    "\n",
    "append를 []로 안묶고 합쳐서 오류 -> 한번에 묶어서 추가\n",
    "\n",
    "while문을 쓰지않아서 메뉴로 돌아가지 않음"
   ]
  },
  {
   "cell_type": "code",
   "execution_count": 10,
   "metadata": {},
   "outputs": [
    {
     "data": {
      "text/plain": [
       "'C:\\\\Users\\\\a\\\\Anaconda3\\\\python.exe'"
      ]
     },
     "execution_count": 10,
     "metadata": {},
     "output_type": "execute_result"
    }
   ],
   "source": [
    "import sys\n",
    "sys.executable"
   ]
  },
  {
   "cell_type": "code",
   "execution_count": null,
   "metadata": {},
   "outputs": [],
   "source": []
  },
  {
   "cell_type": "code",
   "execution_count": 9,
   "metadata": {},
   "outputs": [],
   "source": [
    "a=[]"
   ]
  },
  {
   "cell_type": "code",
   "execution_count": 10,
   "metadata": {},
   "outputs": [],
   "source": [
    "a.append([1234])"
   ]
  },
  {
   "cell_type": "code",
   "execution_count": 13,
   "metadata": {},
   "outputs": [
    {
     "data": {
      "text/plain": [
       "[[1234, '여행지1']]"
      ]
     },
     "execution_count": 13,
     "metadata": {},
     "output_type": "execute_result"
    }
   ],
   "source": [
    "a"
   ]
  },
  {
   "cell_type": "code",
   "execution_count": 23,
   "metadata": {},
   "outputs": [],
   "source": [
    "a[2].append('여행지3')"
   ]
  },
  {
   "cell_type": "code",
   "execution_count": 20,
   "metadata": {},
   "outputs": [],
   "source": [
    "a.append([1235])"
   ]
  },
  {
   "cell_type": "code",
   "execution_count": 37,
   "metadata": {},
   "outputs": [
    {
     "data": {
      "text/plain": [
       "1235"
      ]
     },
     "execution_count": 37,
     "metadata": {},
     "output_type": "execute_result"
    }
   ],
   "source": [
    "a[2][0]"
   ]
  },
  {
   "cell_type": "code",
   "execution_count": 44,
   "metadata": {},
   "outputs": [
    {
     "name": "stdout",
     "output_type": "stream",
     "text": [
      "여행지1 여행지3 "
     ]
    }
   ],
   "source": [
    "for i in range(9000):\n",
    "    if a[i][0]==1235:\n",
    "        for j in range(1,len(a[i])):\n",
    "            print(a[i][j], end=' ')\n",
    "        break"
   ]
  },
  {
   "cell_type": "code",
   "execution_count": null,
   "metadata": {},
   "outputs": [],
   "source": []
  },
  {
   "cell_type": "code",
   "execution_count": null,
   "metadata": {},
   "outputs": [],
   "source": []
  },
  {
   "cell_type": "code",
   "execution_count": 72,
   "metadata": {},
   "outputs": [
    {
     "name": "stdout",
     "output_type": "stream",
     "text": [
      "      *\n",
      "     ***\n",
      "    *****\n",
      "   *******\n",
      "  *********\n",
      " ***********\n"
     ]
    }
   ],
   "source": [
    "for i in range(6):\n",
    "    print(\"{0}{1}\".format(' '*(6-i),'*'*(2*i+1)))"
   ]
  },
  {
   "cell_type": "code",
   "execution_count": null,
   "metadata": {},
   "outputs": [],
   "source": []
  }
 ],
 "metadata": {
  "kernelspec": {
   "display_name": "Python [default]",
   "language": "python",
   "name": "python3"
  },
  "language_info": {
   "codemirror_mode": {
    "name": "ipython",
    "version": 3
   },
   "file_extension": ".py",
   "mimetype": "text/x-python",
   "name": "python",
   "nbconvert_exporter": "python",
   "pygments_lexer": "ipython3",
   "version": "3.6.5"
  }
 },
 "nbformat": 4,
 "nbformat_minor": 2
}
