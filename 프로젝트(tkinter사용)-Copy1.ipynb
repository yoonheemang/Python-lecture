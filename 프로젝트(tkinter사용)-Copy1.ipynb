{
 "cells": [
  {
   "cell_type": "markdown",
   "metadata": {},
   "source": [
    "# 예매 프로그램(tkinter 활용)"
   ]
  },
  {
   "cell_type": "code",
   "execution_count": 1,
   "metadata": {},
   "outputs": [],
   "source": [
    "#회원리스트 생성\n",
    "mem_list=[]\n",
    "\n",
    "#예매내역 리스트 생성\n",
    "order_list=[]\n",
    "\n",
    "#최근 본 여행지 리스트 생성\n",
    "last_list=[]"
   ]
  },
  {
   "cell_type": "markdown",
   "metadata": {},
   "source": [
    "->로그아웃하면 회원리스트, 예매내역 그대로 유지, 최근 본 여행지 리셋"
   ]
  },
  {
   "cell_type": "code",
   "execution_count": 2,
   "metadata": {},
   "outputs": [],
   "source": [
    "import tkinter.messagebox\n",
    "from tkinter import *"
   ]
  },
  {
   "cell_type": "markdown",
   "metadata": {},
   "source": [
    "messagebox가 없다는 오류발생-> import tkinter.messagebox를 두번 해주면 오류해결\n",
    "\n",
    "why??\n",
    "\n",
    "from tkinter import* 과 자리를 바꿔주면(작동 순서를 바꿔주면) 해결"
   ]
  },
  {
   "cell_type": "markdown",
   "metadata": {},
   "source": [
    "## 로그인"
   ]
  },
  {
   "cell_type": "code",
   "execution_count": 10,
   "metadata": {},
   "outputs": [],
   "source": [
    "#로그인 함수(회원번호 입력)\n",
    "def login():\n",
    "    while(1):\n",
    "        if len(mem_no.get())==4 and mem_no.get().isdigit(): #4자리 숫자인 경우\n",
    "            #회원번호를 order_list에 추가\n",
    "            global no         \n",
    "            for i in range(len(order_list)+1):\n",
    "                if len(order_list)==0:\n",
    "                    no=0\n",
    "                    order_list.append([mem_no.get()])\n",
    "                    break\n",
    "                elif order_list[i][0]==mem_no.get():\n",
    "                    no=i\n",
    "                    break\n",
    "                elif i+1==len(order_list):\n",
    "                    no=len(order_list)\n",
    "                    order_list.append([mem_no.get()])\n",
    "\n",
    "            #회원번호가 리스트에 있을 경우\n",
    "            if mem_no.get() in mem_list:\n",
    "                messagebox.showinfo('success','환영합니다')\n",
    "                quit()\n",
    "            #회원번호가 리스트에 없을 경우\n",
    "            else:\n",
    "                messagebox.showinfo('success','신규회원입니다')\n",
    "                mem_list.append(mem_no.get())\n",
    "                quit()\n",
    "            winopen(\"메인화면\")\n",
    "            break\n",
    "\n",
    "        else:\n",
    "            messagebox.showerror('error','4자리 숫자를 입력하세요') #4자리 숫자가 아닌경우 다시 입력받음\n",
    "            break"
   ]
  },
  {
   "cell_type": "markdown",
   "metadata": {},
   "source": [
    "-> 회원번호가 이미 등록되어있으면 그 위치에 정보를 추가하거나 열람해야하므로 전역변수로 위치를 생성\n",
    "\n",
    "-> order_list 생성하는 방법 설명하기"
   ]
  },
  {
   "cell_type": "markdown",
   "metadata": {},
   "source": [
    "## 로그아웃"
   ]
  },
  {
   "cell_type": "code",
   "execution_count": 4,
   "metadata": {},
   "outputs": [],
   "source": [
    "#창닫는 함수\n",
    "def quit():\n",
    "    window.quit()\n",
    "    \n",
    "#로그아웃 함수\n",
    "def logout(win):\n",
    "    if messagebox.askyesno(\"확인\",\"로그아웃하시겠습니까?\"):\n",
    "        global last_list\n",
    "        last_list=[]\n",
    "        win.destroy()"
   ]
  },
  {
   "cell_type": "markdown",
   "metadata": {},
   "source": [
    "-> last_list 를 전역변수로 해야 리셋됨"
   ]
  },
  {
   "cell_type": "markdown",
   "metadata": {},
   "source": [
    "## 메인화면 메뉴창 띄우기"
   ]
  },
  {
   "cell_type": "markdown",
   "metadata": {},
   "source": [
    "### 메인화면 메뉴(1.여행지보기(예매하기))"
   ]
  },
  {
   "cell_type": "code",
   "execution_count": 5,
   "metadata": {},
   "outputs": [],
   "source": [
    "#여행지 보기(예매하기)\n",
    "def winopen1(t):\n",
    "    new=Toplevel()\n",
    "    new.title(t)\n",
    "    btn1=Button(new,text='여행지1',bg='yellow',command=lambda:info('여행지1'))\n",
    "    btn2=Button(new,text='여행지2',bg='yellow',command=lambda:info('여행지2'))\n",
    "    btn3=Button(new,text='여행지3',bg='yellow',command=lambda:info('여행지3'))\n",
    "    btn4=Button(new,text='여행지4',bg='yellow',command=lambda:info('여행지4'))\n",
    "    btn5=Button(new,text='메인화면으로',command=lambda:new.destroy())\n",
    "    \n",
    "    btn1.pack()\n",
    "    btn2.pack()\n",
    "    btn3.pack()\n",
    "    btn4.pack()\n",
    "    btn5.pack()\n",
    "    new.mainloop()\n",
    "\n",
    "#예매내역 리스트에 추가하고 창 닫는 함수\n",
    "def append_close(text,win):\n",
    "    if text in order_list[no]:\n",
    "        messagebox.showerror('error','이미 예매한 여행지입니다.')\n",
    "        win.destroy()\n",
    "    else:\n",
    "        order_list[no].append(text)\n",
    "        win.destroy()"
   ]
  },
  {
   "cell_type": "markdown",
   "metadata": {},
   "source": [
    "-> 인원 수 받는 함수와 예매내역 보여주는 함수 만들기"
   ]
  },
  {
   "cell_type": "code",
   "execution_count": 6,
   "metadata": {},
   "outputs": [],
   "source": [
    "#여행지 정보창\n",
    "def info(t):\n",
    "    new=Toplevel()\n",
    "    new.title(t)\n",
    "    #여행지 정보를 보면 최근 본 여행지에 추가(앞쪽으로)  \n",
    "    if t in last_list:\n",
    "        last_list.remove(t)\n",
    "    last_list.insert(0,t) \n",
    "    \n",
    "    if t=='여행지1':\n",
    "        label=Label(new,text='여행지1 정보\\n가격')\n",
    "    elif t=='여행지2':\n",
    "        label=Label(new,text='여행지2 정보\\n가격')\n",
    "    elif t=='여행지3':\n",
    "        label=Label(new,text='여행지3 정보\\n가격')\n",
    "    elif t=='여행지4':\n",
    "        label=Label(new,text='여행지4 정보\\n가격')\n",
    "        \n",
    "    label.pack()\n",
    "    btn=Button(new,text='예매',command=lambda:append_close(t,new))\n",
    "    btn.pack()\n",
    "    new.mainloop()"
   ]
  },
  {
   "cell_type": "markdown",
   "metadata": {},
   "source": [
    "-> 예매 클릭하면 예매내역 추가하고 창 닫는 함수 (해결)\n",
    "\n",
    "-> 같은 장소를 예매하면 이미 예매했다고 알려주기 / 예매내역에 추가x (해결)\n",
    "\n",
    "-> 예매하기를 누르면 인원수 입력받기\n",
    "\n",
    "-> 입력받은 정보들 다시 화면에 띄워주기\n",
    "\n",
    "-> 다른 회원번호를 가진 사람이 들어오면 새로운 리스트를 줘야함 (해결)\n",
    "\n",
    ": order_list를 (회원번호가 1000-9999로 한정되어 있으므로) 9000개짜리 이차원 리스트로 만듦"
   ]
  },
  {
   "cell_type": "markdown",
   "metadata": {},
   "source": [
    "### 메인화면 메뉴(2. best 여행지 추천 3.최근 본 여행지 4.예매내역보기)"
   ]
  },
  {
   "cell_type": "code",
   "execution_count": 7,
   "metadata": {},
   "outputs": [],
   "source": [
    "#best 여행지 추천\n",
    "def winopen2(t):\n",
    "    new=Toplevel()\n",
    "    new.title(t)\n",
    "    best={'여행지1':0,'여행지2':0,'여행지3':0,'여행지4':0}\n",
    "    for i in range(len(order_list)):\n",
    "        for j in range(1,len(order_list[i])):\n",
    "            best[order_list[i][j]]+=1\n",
    "    recommend=list(best.keys())[list(best.values()).index(max(best.values()))]\n",
    "    label2=Label(new,text=best)\n",
    "    label2_2=Label(new,text='가장 많이 예매한 여행지 : '+recommend)\n",
    "    label2.pack()\n",
    "    label2_2.pack()\n",
    "\n",
    "    new.mainloop()\n",
    "    \n",
    "#최근 본 여행지\n",
    "def winopen3(t):\n",
    "    new=Toplevel()\n",
    "    new.title(t)\n",
    "    if len(last_list)!=0:\n",
    "        label3=Label(new,text=last_list)\n",
    "    else:\n",
    "        label3=Label(new,text='최근 본 여행지가 없습니다.')\n",
    "    label3.pack()\n",
    "    new.mainloop()\n",
    "    \n",
    "#예매내역 보기\n",
    "def winopen4(t):\n",
    "    new=Toplevel()\n",
    "    new.title(t)\n",
    "    if len(order_list[no][1:])!=0:\n",
    "        label4=Label(new,text=order_list[no][1:])\n",
    "    else:\n",
    "        label4=Label(new,text='예매내역이 없습니다.')\n",
    "    label4.pack()\n",
    "    new.mainloop()"
   ]
  },
  {
   "cell_type": "markdown",
   "metadata": {},
   "source": [
    "-> best여행지 추천은 딕셔너리 사용해서 가장 많은 값을 가진 여행지 출력\n",
    "\n",
    "-> 예매내역보기 함수에서 단순히 여행지 뿐만 아니라 수량, 가격도 나타나게 할 것(여행지 정보 넣기)\n",
    "\n",
    "-> order_list에서 첫번째 변수는 제외하고 출력하기 [1:] 사용 (해결)"
   ]
  },
  {
   "cell_type": "code",
   "execution_count": 8,
   "metadata": {},
   "outputs": [],
   "source": [
    "#새로운 창 열리는 함수\n",
    "def winopen(t):\n",
    "    new=Toplevel()\n",
    "    new.title(t)\n",
    "    new.geometry(\"230x150\")\n",
    "    btn1=Button(new,text='여행지 보기(예매하기)',fg='red',bg='yellow',command=lambda:winopen1('여행지 보기(예매하기)'))\n",
    "    btn2=Button(new,text='best 여행지 추천',bg='yellow',command=lambda:winopen2('best 여행지 추천'))\n",
    "    btn3=Button(new,text='최근 본 여행지',bg='yellow',command=lambda:winopen3('최근 본 여행지'))\n",
    "    btn4=Button(new,text='예매내역 보기',bg='yellow',command=lambda:winopen4('예매내역 보기'))\n",
    "    btn5=Button(new,text='로그아웃',command=lambda:logout(new))\n",
    "\n",
    "    btn1.pack()\n",
    "    btn2.pack()\n",
    "    btn3.pack()\n",
    "    btn4.pack()\n",
    "    btn5.pack()\n",
    "    new.mainloop()"
   ]
  },
  {
   "cell_type": "code",
   "execution_count": null,
   "metadata": {},
   "outputs": [],
   "source": []
  },
  {
   "cell_type": "markdown",
   "metadata": {},
   "source": [
    "## 메인함수"
   ]
  },
  {
   "cell_type": "code",
   "execution_count": 9,
   "metadata": {
    "scrolled": true
   },
   "outputs": [],
   "source": [
    "#윈도우 생성\n",
    "window=Tk()\n",
    "window.title(\"로그인\")\n",
    "window.geometry(\"230x50\")\n",
    "\n",
    "#텍스트창의 값 저장할 변수\n",
    "mem_no=StringVar()\n",
    "\n",
    "#입력창\n",
    "lbl = Label(window, text = \"회원번호\")\n",
    "lbl.grid(row = 0, column = 0)\n",
    "txt = Entry(window,textvariable=mem_no)\n",
    "txt.grid(row = 0, column = 1)\n",
    "\n",
    "#Ok버튼 (command=lambda: 뒤에 명령 작성.)\n",
    "btn = Button(window, text = \"Ok\", width = 15,command=lambda:login())\n",
    "btn.grid(row = 1, column = 1)\n",
    "\n",
    "window.mainloop()"
   ]
  },
  {
   "cell_type": "code",
   "execution_count": null,
   "metadata": {},
   "outputs": [],
   "source": []
  },
  {
   "cell_type": "code",
   "execution_count": null,
   "metadata": {},
   "outputs": [],
   "source": []
  },
  {
   "cell_type": "code",
   "execution_count": null,
   "metadata": {},
   "outputs": [],
   "source": []
  },
  {
   "cell_type": "code",
   "execution_count": null,
   "metadata": {},
   "outputs": [],
   "source": []
  },
  {
   "cell_type": "code",
   "execution_count": null,
   "metadata": {},
   "outputs": [],
   "source": []
  },
  {
   "cell_type": "code",
   "execution_count": null,
   "metadata": {},
   "outputs": [],
   "source": []
  },
  {
   "cell_type": "code",
   "execution_count": null,
   "metadata": {},
   "outputs": [],
   "source": []
  },
  {
   "cell_type": "code",
   "execution_count": 7,
   "metadata": {},
   "outputs": [
    {
     "data": {
      "text/plain": [
       "{'여행지1': 3, '여행지2': 1, '여행지3': 2, '여행지4': 1}"
      ]
     },
     "execution_count": 7,
     "metadata": {},
     "output_type": "execute_result"
    }
   ],
   "source": [
    "#best여행지\n",
    "best={'여행지1':0,'여행지2':0,'여행지3':0,'여행지4':0}\n",
    "for i in range(len(order_list)):\n",
    "    for j in range(1,len(order_list[i])):\n",
    "        best[order_list[i][j]]+=1\n",
    "best"
   ]
  },
  {
   "cell_type": "code",
   "execution_count": 29,
   "metadata": {},
   "outputs": [
    {
     "data": {
      "text/plain": [
       "'여행지1'"
      ]
     },
     "execution_count": 29,
     "metadata": {},
     "output_type": "execute_result"
    }
   ],
   "source": [
    "#list(best.keys())[list(best.values()).index(max(best.values()))]\n",
    "list(best.keys())[list(best.values()).index(max(best.values()))]"
   ]
  },
  {
   "cell_type": "code",
   "execution_count": 6,
   "metadata": {},
   "outputs": [],
   "source": [
    "order_list=[[5,'여행지1','여행지3'],[6,'여행지1'],[9,'여행지2','여행지4'],[898,'여행지3'],[8,'여행지1']]"
   ]
  },
  {
   "cell_type": "code",
   "execution_count": 51,
   "metadata": {},
   "outputs": [
    {
     "data": {
      "text/plain": [
       "[]"
      ]
     },
     "execution_count": 51,
     "metadata": {},
     "output_type": "execute_result"
    }
   ],
   "source": [
    "order_list"
   ]
  },
  {
   "cell_type": "code",
   "execution_count": 44,
   "metadata": {},
   "outputs": [
    {
     "data": {
      "text/plain": [
       "0"
      ]
     },
     "execution_count": 44,
     "metadata": {},
     "output_type": "execute_result"
    }
   ],
   "source": [
    "no"
   ]
  },
  {
   "cell_type": "code",
   "execution_count": null,
   "metadata": {},
   "outputs": [],
   "source": []
  }
 ],
 "metadata": {
  "kernelspec": {
   "display_name": "Python [default]",
   "language": "python",
   "name": "python3"
  },
  "language_info": {
   "codemirror_mode": {
    "name": "ipython",
    "version": 3
   },
   "file_extension": ".py",
   "mimetype": "text/x-python",
   "name": "python",
   "nbconvert_exporter": "python",
   "pygments_lexer": "ipython3",
   "version": "3.6.5"
  }
 },
 "nbformat": 4,
 "nbformat_minor": 2
}
